{
 "cells": [
  {
   "cell_type": "code",
   "execution_count": 2,
   "metadata": {},
   "outputs": [],
   "source": [
    "#Importing important libraries\n",
    "\n",
    "import pandas as pd\n",
    "import numpy as np\n",
    "from matplotlib import pyplot as plt\n",
    "%matplotlib inline\n",
    "from sklearn.cluster import KMeans\n",
    "import seaborn as sns; sns.set()\n",
    "import csv"
   ]
  },
  {
   "cell_type": "code",
   "execution_count": 3,
   "metadata": {},
   "outputs": [
    {
     "data": {
      "text/html": [
       "<div>\n",
       "<style scoped>\n",
       "    .dataframe tbody tr th:only-of-type {\n",
       "        vertical-align: middle;\n",
       "    }\n",
       "\n",
       "    .dataframe tbody tr th {\n",
       "        vertical-align: top;\n",
       "    }\n",
       "\n",
       "    .dataframe thead th {\n",
       "        text-align: right;\n",
       "    }\n",
       "</style>\n",
       "<table border=\"1\" class=\"dataframe\">\n",
       "  <thead>\n",
       "    <tr style=\"text-align: right;\">\n",
       "      <th></th>\n",
       "      <th>id</th>\n",
       "      <th>lat</th>\n",
       "      <th>lng</th>\n",
       "    </tr>\n",
       "  </thead>\n",
       "  <tbody>\n",
       "    <tr>\n",
       "      <th>0</th>\n",
       "      <td>vipin-kumar-2</td>\n",
       "      <td>28.309124</td>\n",
       "      <td>76.864332</td>\n",
       "    </tr>\n",
       "    <tr>\n",
       "      <th>1</th>\n",
       "      <td>daya-</td>\n",
       "      <td>28.490826</td>\n",
       "      <td>77.069009</td>\n",
       "    </tr>\n",
       "    <tr>\n",
       "      <th>2</th>\n",
       "      <td>mukesh-3</td>\n",
       "      <td>28.501504</td>\n",
       "      <td>77.032206</td>\n",
       "    </tr>\n",
       "    <tr>\n",
       "      <th>3</th>\n",
       "      <td>neyaz-ahmed</td>\n",
       "      <td>28.512438</td>\n",
       "      <td>77.022588</td>\n",
       "    </tr>\n",
       "    <tr>\n",
       "      <th>4</th>\n",
       "      <td>pawan-kumar-2</td>\n",
       "      <td>28.532572</td>\n",
       "      <td>77.053045</td>\n",
       "    </tr>\n",
       "  </tbody>\n",
       "</table>\n",
       "</div>"
      ],
      "text/plain": [
       "              id        lat        lng\n",
       "0  vipin-kumar-2  28.309124  76.864332\n",
       "1          daya-  28.490826  77.069009\n",
       "2       mukesh-3  28.501504  77.032206\n",
       "3    neyaz-ahmed  28.512438  77.022588\n",
       "4  pawan-kumar-2  28.532572  77.053045"
      ]
     },
     "execution_count": 3,
     "metadata": {},
     "output_type": "execute_result"
    }
   ],
   "source": [
    "#Reading the file and reading the first few rows\n",
    "\n",
    "df1 = pd.read_csv('C:\\\\Users\\\\Himanshu\\\\Downloads\\\\Assignment 2.csv')\n",
    "df1.head()"
   ]
  },
  {
   "cell_type": "code",
   "execution_count": 4,
   "metadata": {},
   "outputs": [
    {
     "data": {
      "text/plain": [
       "id       13\n",
       "lat    5932\n",
       "lng    5932\n",
       "dtype: int64"
      ]
     },
     "execution_count": 4,
     "metadata": {},
     "output_type": "execute_result"
    }
   ],
   "source": [
    "#Looking for number of null values in all columns\n",
    "\n",
    "df1.isnull().sum()"
   ]
  },
  {
   "cell_type": "code",
   "execution_count": 5,
   "metadata": {},
   "outputs": [
    {
     "data": {
      "text/plain": [
       "id     0\n",
       "lat    0\n",
       "lng    0\n",
       "dtype: int64"
      ]
     },
     "execution_count": 5,
     "metadata": {},
     "output_type": "execute_result"
    }
   ],
   "source": [
    "#Dropping rows containing null values\n",
    "\n",
    "df1.dropna(axis=0,how='any',subset=['lat','lng', 'id'],inplace=True)\n",
    "df1.isnull().sum()"
   ]
  },
  {
   "cell_type": "code",
   "execution_count": 6,
   "metadata": {},
   "outputs": [
    {
     "data": {
      "image/png": "[encoded data removed]",
      "text/plain": [
       "<Figure size 432x288 with 1 Axes>"
      ]
     },
     "metadata": {},
     "output_type": "display_data"
    }
   ],
   "source": [
    "#Elbow curve for finding optimum number of clusters\n",
    "\n",
    "K_clusters = range(1,10)\n",
    "kmeans = [KMeans(n_clusters=i) for i in K_clusters]\n",
    "Y_axis = df1[['lat']]\n",
    "X_axis = df1[['lng']]\n",
    "score = [kmeans[i].fit(Y_axis).score(Y_axis) for i in range(len(kmeans))]\n",
    "\n",
    "# Visualize\n",
    "\n",
    "\n",
    "plt.plot(K_clusters, score)\n",
    "plt.xlabel('Number of Clusters')\n",
    "plt.ylabel('Score')\n",
    "plt.title('Elbow Curve')\n",
    "plt.show()"
   ]
  },
  {
   "cell_type": "code",
   "execution_count": 23,
   "metadata": {},
   "outputs": [
    {
     "data": {
      "text/html": [
       "<div>\n",
       "<style scoped>\n",
       "    .dataframe tbody tr th:only-of-type {\n",
       "        vertical-align: middle;\n",
       "    }\n",
       "\n",
       "    .dataframe tbody tr th {\n",
       "        vertical-align: top;\n",
       "    }\n",
       "\n",
       "    .dataframe thead th {\n",
       "        text-align: right;\n",
       "    }\n",
       "</style>\n",
       "<table border=\"1\" class=\"dataframe\">\n",
       "  <thead>\n",
       "    <tr style=\"text-align: right;\">\n",
       "      <th></th>\n",
       "      <th>id</th>\n",
       "      <th>lat</th>\n",
       "      <th>lng</th>\n",
       "      <th>cluster_label</th>\n",
       "    </tr>\n",
       "  </thead>\n",
       "  <tbody>\n",
       "    <tr>\n",
       "      <th>0</th>\n",
       "      <td>vipin-kumar-2</td>\n",
       "      <td>28.309124</td>\n",
       "      <td>76.864332</td>\n",
       "      <td>0</td>\n",
       "    </tr>\n",
       "    <tr>\n",
       "      <th>1</th>\n",
       "      <td>daya-</td>\n",
       "      <td>28.490826</td>\n",
       "      <td>77.069009</td>\n",
       "      <td>0</td>\n",
       "    </tr>\n",
       "    <tr>\n",
       "      <th>2</th>\n",
       "      <td>mukesh-3</td>\n",
       "      <td>28.501504</td>\n",
       "      <td>77.032206</td>\n",
       "      <td>0</td>\n",
       "    </tr>\n",
       "    <tr>\n",
       "      <th>3</th>\n",
       "      <td>neyaz-ahmed</td>\n",
       "      <td>28.512438</td>\n",
       "      <td>77.022588</td>\n",
       "      <td>0</td>\n",
       "    </tr>\n",
       "    <tr>\n",
       "      <th>4</th>\n",
       "      <td>pawan-kumar-2</td>\n",
       "      <td>28.532572</td>\n",
       "      <td>77.053045</td>\n",
       "      <td>0</td>\n",
       "    </tr>\n",
       "    <tr>\n",
       "      <th>5</th>\n",
       "      <td>bhupendra</td>\n",
       "      <td>28.510925</td>\n",
       "      <td>77.025823</td>\n",
       "      <td>0</td>\n",
       "    </tr>\n",
       "    <tr>\n",
       "      <th>6</th>\n",
       "      <td>sarfaraz</td>\n",
       "      <td>28.514697</td>\n",
       "      <td>77.034885</td>\n",
       "      <td>0</td>\n",
       "    </tr>\n",
       "    <tr>\n",
       "      <th>7</th>\n",
       "      <td>suman-1</td>\n",
       "      <td>28.458850</td>\n",
       "      <td>77.019743</td>\n",
       "      <td>0</td>\n",
       "    </tr>\n",
       "    <tr>\n",
       "      <th>8</th>\n",
       "      <td>rajnish</td>\n",
       "      <td>28.537562</td>\n",
       "      <td>77.054748</td>\n",
       "      <td>0</td>\n",
       "    </tr>\n",
       "    <tr>\n",
       "      <th>9</th>\n",
       "      <td>mukesh-jha</td>\n",
       "      <td>28.501504</td>\n",
       "      <td>77.032206</td>\n",
       "      <td>0</td>\n",
       "    </tr>\n",
       "  </tbody>\n",
       "</table>\n",
       "</div>"
      ],
      "text/plain": [
       "              id        lat        lng  cluster_label\n",
       "0  vipin-kumar-2  28.309124  76.864332              0\n",
       "1          daya-  28.490826  77.069009              0\n",
       "2       mukesh-3  28.501504  77.032206              0\n",
       "3    neyaz-ahmed  28.512438  77.022588              0\n",
       "4  pawan-kumar-2  28.532572  77.053045              0\n",
       "5      bhupendra  28.510925  77.025823              0\n",
       "6       sarfaraz  28.514697  77.034885              0\n",
       "7        suman-1  28.458850  77.019743              0\n",
       "8        rajnish  28.537562  77.054748              0\n",
       "9     mukesh-jha  28.501504  77.032206              0"
      ]
     },
     "execution_count": 23,
     "metadata": {},
     "output_type": "execute_result"
    }
   ],
   "source": [
    "kmeans = KMeans(n_clusters = 4, init ='k-means++')\n",
    "\n",
    "# Computing k-means clustering.\n",
    "\n",
    "kmeans.fit(df1[df1.columns[1:3]]) # Computing k-means clustering.\n",
    "df1['cluster_label'] = kmeans.fit_predict(df1[df1.columns[1:3]])\n",
    "\n",
    "# Coordinates of cluster centers.\n",
    "\n",
    "centers = kmeans.cluster_centers_ \n",
    "\n",
    "# Labels of each point\n",
    "\n",
    "labels = kmeans.predict(df1[df1.columns[1:3]]) \n",
    "df1.head(10)"
   ]
  },
  {
   "cell_type": "code",
   "execution_count": 24,
   "metadata": {},
   "outputs": [
    {
     "data": {
      "text/plain": [
       "<matplotlib.collections.PathCollection at 0x2a18129b248>"
      ]
     },
     "execution_count": 24,
     "metadata": {},
     "output_type": "execute_result"
    },
    {
     "data": {
      "image/png": "[encoded data removed]",
      "text/plain": [
       "<Figure size 432x288 with 2 Axes>"
      ]
     },
     "metadata": {},
     "output_type": "display_data"
    }
   ],
   "source": [
    "#Visualizing the result\n",
    "\n",
    "df1.plot.scatter(x = 'lat', y = 'lng', c=labels, s=50, cmap='viridis')\n",
    "plt.scatter(centers[:, 0], centers[:, 1], c='black', s=200, alpha=0.5)"
   ]
  },
  {
   "cell_type": "code",
   "execution_count": 25,
   "metadata": {},
   "outputs": [
    {
     "name": "stdout",
     "output_type": "stream",
     "text": [
      "[[ 28.44196087  77.0389055 ]\n",
      " [ 39.31015392 -95.91264035]\n",
      " [ 35.19472022  18.07881529]\n",
      " [ 23.20948455  84.23949668]]\n"
     ]
    }
   ],
   "source": [
    "#Finding centres of the region\n",
    "\n",
    "centers = kmeans.cluster_centers_\n",
    "print(centers)"
   ]
  }
 ],
 "metadata": {
  "kernelspec": {
   "display_name": "Python 3",
   "language": "python",
   "name": "python3"
  },
  "language_info": {
   "codemirror_mode": {
    "name": "ipython",
    "version": 3
   },
   "file_extension": ".py",
   "mimetype": "text/x-python",
   "name": "python",
   "nbconvert_exporter": "python",
   "pygments_lexer": "ipython3",
   "version": "3.7.6"
  }
 },
 "nbformat": 4,
 "nbformat_minor": 4
}
